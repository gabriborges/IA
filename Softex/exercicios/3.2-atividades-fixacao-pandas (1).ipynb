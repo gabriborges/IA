{
 "cells": [
  {
   "cell_type": "markdown",
   "metadata": {},
   "source": [
    "[SOFTEX] Residência em TIC - MCTI Futuro - IFMA \n",
    "\n",
    "# 3.2 - Exercícios de Fixação sobre Pandas\n",
    "\n",
    "\n",
    "Elaborado por Prof. Josenildo Silva (jcsilva@ifma.edu.br)"
   ]
  },
  {
   "cell_type": "markdown",
   "metadata": {},
   "source": [
    "# Questões"
   ]
  },
  {
   "cell_type": "markdown",
   "metadata": {},
   "source": [
    "1. importe as biblitecas numpy e pandas\n",
    "1. Crie um ndarray de duas dimensões com números aleatórios. A partir dele, crie um DataFrame. Defina nome para as colunas do DataFrame.\n",
    "1. Faça consultas no seu DataFrame utilizando indexação lógica \n",
    "1. Faça consulta de apenas algumas colunas do deu DataFrame utilizando o atributo .iloc ou o .loc\n",
    "1. Leia um arquivo de dados diretamente para um DataFrame. \n",
    "1. Leia uma página web a partir de uma URL, onde haja uma tabela HTML. Modifique o nomes de colunas e faça uma consulta no DataFrame\n",
    "1. Adicione uma nova coluna ao DataFrame anterior com dados de sua escolha. Podem ser dados aleatórios. \n",
    "1. Crie uma nova coluna ao seu DataFrame a partir da combinação de duas outras colunas existentes. Use expresssões aritiméticas ou funções tais como soma, subtração, multiplicão, ou use funções do numpy tais como np.log, np.sqrt, etc. \n",
    "1. Leia um dataset que possua atributos numéricos e calcule média, desvio, max, min de todos eles. Dica: use .describe().\n",
    "1. Utilize a função groupby e crie resumos agrupados utilizando diferentes colunas do DataFrame\n"
   ]
  },
  {
   "cell_type": "markdown",
   "metadata": {},
   "source": [
    "Para mais exercícios, visite a página https://www.machinelearningplus.com/python/101-pandas-exercises-python/"
   ]
  },
  {
   "cell_type": "markdown",
   "metadata": {},
   "source": [
    "# Respostas"
   ]
  },
  {
   "cell_type": "code",
   "execution_count": null,
   "metadata": {
    "vscode": {
     "languageId": "plaintext"
    }
   },
   "outputs": [],
   "source": [
    "# Use células diferentes para responder cada questão."
   ]
  },
  {
   "cell_type": "code",
   "execution_count": null,
   "metadata": {
    "vscode": {
     "languageId": "plaintext"
    }
   },
   "outputs": [],
   "source": [
    "# 1. importe as bibliotecas"
   ]
  },
  {
   "cell_type": "code",
   "execution_count": null,
   "metadata": {
    "vscode": {
     "languageId": "plaintext"
    }
   },
   "outputs": [],
   "source": [
    "# 2. Crie ndarray de duas dimensões e um dataframe"
   ]
  },
  {
   "cell_type": "code",
   "execution_count": null,
   "metadata": {},
   "outputs": [],
   "source": []
  },
  {
   "cell_type": "code",
   "execution_count": null,
   "metadata": {},
   "outputs": [],
   "source": []
  }
 ],
 "metadata": {
  "language_info": {
   "name": "python"
  },
  "orig_nbformat": 4
 },
 "nbformat": 4,
 "nbformat_minor": 2
}
