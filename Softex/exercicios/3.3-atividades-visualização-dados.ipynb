{
 "cells": [
  {
   "cell_type": "markdown",
   "id": "01d7c385-0607-462e-a8fd-10a6f3b79b2b",
   "metadata": {},
   "source": [
    "[SOFTEX] Residência em TIC - MCTI Futuro - IFMA \n",
    "\n",
    "# 3.3 - Exercícios de Fixação sobre Visualização de Dados\n",
    "\n",
    "\n",
    "Elaborado pelos professores Josenildo Silva (jcsilva@ifma.edu.br) e João Pedro Augusto Costa (jpac1207@gmail.com)"
   ]
  },
  {
   "cell_type": "markdown",
   "id": "498e8bf0-22d6-45c0-8f8d-291c67bb3751",
   "metadata": {},
   "source": [
    "1. Importe as bibliotecas numpy e matplotlib\n",
    "2. Crie um ndarray que contenha os 100 números inteiros de 0 a 99 em ordem crescente, vamos chama-lo de **a**.\n",
    "3. Crie um ndarray de dimensão 100 com números aleatórios entre 0 e 100, vamos chama-lo de **b**.\n",
    "4. Utilizando o estilo orientado a objetos, crie um gráfico de linha que plote o vetor **b** em função do vetor **a**.\n",
    "5. Recrie o gráfico, desta vez adicione um titulo, além de labels (textos) para os eixos X e Y do gráfico.\n",
    "6. Crie um plot de espalhamento de **y** em função de **x**, onde **x** seja um vetor dos números de 0 a 9 e **y** seja um vetor onde cada elemento contenha o quadrado do elemento correspondente em **x**.\n",
    "7. Crie uma lista contendo os valores textuais das 5 primeiras letras do alfabeto e a atribua a uma variável chamada **x**. Crie um ndarray contendo os números de 1 a 5 e o atribua a uma variável chamada **y**. Por fim, crie um plot de barras cujo as categorias sejam os elementos de **x** e os valores sejam os elementos de **y**.\n",
    "8. Crie um ndarray com 100 elementos cujo conjunto obedeça a uma distribuição normal e o atribua a uma variável **x**. Crie um plot de histograma dos elementos de **x** e salve-o em uma arquivo de extensão **.png**."
   ]
  },
  {
   "cell_type": "code",
   "execution_count": null,
   "id": "c91f091c",
   "metadata": {},
   "outputs": [],
   "source": []
  }
 ],
 "metadata": {
  "kernelspec": {
   "display_name": "Python 3 (ipykernel)",
   "language": "python",
   "name": "python3"
  },
  "language_info": {
   "codemirror_mode": {
    "name": "ipython",
    "version": 3
   },
   "file_extension": ".py",
   "mimetype": "text/x-python",
   "name": "python",
   "nbconvert_exporter": "python",
   "pygments_lexer": "ipython3",
   "version": "3.9.17"
  }
 },
 "nbformat": 4,
 "nbformat_minor": 5
}
