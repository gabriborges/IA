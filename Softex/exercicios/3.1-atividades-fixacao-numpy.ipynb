{
 "cells": [
  {
   "attachments": {},
   "cell_type": "markdown",
   "metadata": {
    "slideshow": {
     "slide_type": "slide"
    }
   },
   "source": [
    "Curso de Capacitação em IA (2023)\n",
    "[MCTI, SOFTEX, IFMA Monte Castelo]\n",
    "\n",
    "# Atividade de Fixação\n",
    "## Tópico: 3.1 - Numpy\n"
   ]
  },
  {
   "attachments": {},
   "cell_type": "markdown",
   "metadata": {},
   "source": [
    "### Instruções\n",
    "\n",
    "1. Este notebook deve ser utilizado para fixação dos conceitos.\n",
    "1. Abra este notebook no jupyter, jupyter lab, vscode (com extensões) ou no colab.  \n",
    "1. Responda cada questão com seu código e execute. Verifique a saída, corrija se necessário, e execute novamente. \n",
    "1. Algumas questões admitem várias formas de resposta. Neste caso, adicione células com suas várias respostas. \n",
    "\n"
   ]
  },
  {
   "attachments": {},
   "cell_type": "markdown",
   "metadata": {},
   "source": [
    "### Configurações"
   ]
  },
  {
   "cell_type": "code",
   "execution_count": 2,
   "metadata": {
    "slideshow": {
     "slide_type": "slide"
    }
   },
   "outputs": [],
   "source": [
    "import numpy as np"
   ]
  },
  {
   "attachments": {},
   "cell_type": "markdown",
   "metadata": {},
   "source": [
    "## Questões"
   ]
  },
  {
   "attachments": {},
   "cell_type": "markdown",
   "metadata": {},
   "source": [
    "### Criação de ndarrays"
   ]
  },
  {
   "attachments": {},
   "cell_type": "markdown",
   "metadata": {
    "slideshow": {
     "slide_type": "fragment"
    }
   },
   "source": [
    "1. Crie um ndarray de 5 itens a partir de números quaisquer (cada aluno deve utilizar numeros diferentes)"
   ]
  },
  {
   "cell_type": "code",
   "execution_count": 2,
   "metadata": {
    "slideshow": {
     "slide_type": "notes"
    }
   },
   "outputs": [],
   "source": [
    "# Sua resposta aquisdadas\n",
    "a = np.array([1,2,3,4,5])\n",
    "a"
   ]
  },
  {
   "attachments": {},
   "cell_type": "markdown",
   "metadata": {
    "slideshow": {
     "slide_type": "slide"
    }
   },
   "source": [
    "2. Crie um ndarray de 5 numeros inteiros em um dado intervalo "
   ]
  },
  {
   "cell_type": "code",
   "execution_count": 3,
   "metadata": {
    "slideshow": {
     "slide_type": "notes"
    }
   },
   "outputs": [
    {
     "data": {
      "text/plain": [
       "(3, 2)"
      ]
     },
     "execution_count": 3,
     "metadata": {},
     "output_type": "execute_result"
    }
   ],
   "source": [
    "# Digite seu codigo aqui\n",
    "a = np.array([1,2,3,4,5])\n",
    "meu_array = np.array([[0,1],[2,3],[4,5]])\n",
    "meu_array.shape"
   ]
  },
  {
   "attachments": {},
   "cell_type": "markdown",
   "metadata": {},
   "source": [
    "3. Crie um ndarray com 100 números reais no mesmo intervalo da questão anterior "
   ]
  },
  {
   "cell_type": "code",
   "execution_count": 13,
   "metadata": {},
   "outputs": [
    {
     "name": "stdout",
     "output_type": "stream",
     "text": [
      "[0.33633343 0.81539361 0.03755981 0.65399298 0.51730566 0.79477465\n",
      " 0.71780422 0.28772701 0.04331901 0.30228954 0.02259891 0.1250689\n",
      " 0.06537848 0.99818176 0.71905002 0.79829225 0.40421473 0.65402488\n",
      " 0.58500813 0.19526217 0.7679264  0.29258412 0.45847047 0.48333559\n",
      " 0.9728787  0.39383963 0.67522689 0.14521031 0.39979391 0.2862504\n",
      " 0.32397863 0.82049957 0.03951761 0.7703979  0.09071777 0.27283164\n",
      " 0.88972006 0.53727123 0.13329507 0.25176023 0.07257336 0.11675328\n",
      " 0.38918061 0.29261486 0.64886538 0.96583456 0.54476549 0.50775746\n",
      " 0.16777894 0.06523513 0.99198128 0.90010468 0.04920252 0.18248142\n",
      " 0.15200246 0.51659408 0.41835336 0.15948693 0.44110755 0.77396935\n",
      " 0.05901933 0.16615394 0.80610892 0.92332783 0.26983859 0.2563161\n",
      " 0.65083203 0.82977698 0.02302415 0.53868668 0.37730028 0.26330551\n",
      " 0.33009012 0.74583655 0.43850817 0.39614308 0.50631214 0.95493598\n",
      " 0.87567735 0.17704425 0.85463847 0.39317928 0.57635888 0.50693048\n",
      " 0.37599338 0.21574095 0.19827347 0.71980614 0.22064154 0.93718592\n",
      " 0.88734457 0.90963956 0.76183289 0.04784386 0.34647377 0.93074487\n",
      " 0.05851096 0.61592875 0.39318488 0.02947445]\n"
     ]
    }
   ],
   "source": [
    "# Digite seu codigo aqui\n",
    "a = np.random.rand(100)\n",
    "print(a)"
   ]
  },
  {
   "attachments": {},
   "cell_type": "markdown",
   "metadata": {},
   "source": [
    "4. Crie uma matriz quadrada de dimensão maior que 4, onde a diagonal principal é formada por valores 3 "
   ]
  },
  {
   "cell_type": "code",
   "execution_count": 14,
   "metadata": {},
   "outputs": [
    {
     "name": "stdout",
     "output_type": "stream",
     "text": [
      "[[3. 0. 0. 0. 0.]\n",
      " [0. 3. 0. 0. 0.]\n",
      " [0. 0. 3. 0. 0.]\n",
      " [0. 0. 0. 3. 0.]\n",
      " [0. 0. 0. 0. 3.]]\n"
     ]
    }
   ],
   "source": [
    "# Digite seu codigo aqui\n",
    "matriz = np.zeros((5, 5))\n",
    "np.fill_diagonal(matriz, 3)\n",
    "print(matriz)\n"
   ]
  },
  {
   "attachments": {},
   "cell_type": "markdown",
   "metadata": {},
   "source": [
    "### Fatiamento e indexação"
   ]
  },
  {
   "attachments": {},
   "cell_type": "markdown",
   "metadata": {},
   "source": [
    "5. Crie uma estrutura de duas dimensões com alguns poucos números, ex. 12. Selecione todos os números mas ignore as últimas duas linhae e considere apenas a ultima coluna. "
   ]
  },
  {
   "cell_type": "code",
   "execution_count": 17,
   "metadata": {},
   "outputs": [
    {
     "name": "stdout",
     "output_type": "stream",
     "text": [
      "[3 6]\n"
     ]
    }
   ],
   "source": [
    "# Digite seu codigo aqui\n",
    "matriz = np.array([[1, 2, 3],\n",
    "                   [4, 5, 6],\n",
    "                   [7, 8, 9],\n",
    "                   [10,11,12]])\n",
    "\n",
    "print(matriz[:2, -1])"
   ]
  },
  {
   "attachments": {},
   "cell_type": "markdown",
   "metadata": {
    "slideshow": {
     "slide_type": "slide"
    }
   },
   "source": [
    "6. Extraia todos os números que sejam maior (ou menor) que a media (ou mediana) dos valores que você escolheu"
   ]
  },
  {
   "cell_type": "code",
   "execution_count": 21,
   "metadata": {
    "slideshow": {
     "slide_type": "notes"
    }
   },
   "outputs": [
    {
     "name": "stdout",
     "output_type": "stream",
     "text": [
      "6.5\n",
      "[1 2 3 4 5 6]\n"
     ]
    }
   ],
   "source": [
    "# Digite seu codigo aqui\n",
    "\n",
    "media = np.mean(matriz)\n",
    "print(media)\n",
    "maiores_que_media = matriz[matriz < media]\n",
    "print(maiores_que_media)"
   ]
  },
  {
   "attachments": {},
   "cell_type": "markdown",
   "metadata": {
    "slideshow": {
     "slide_type": "slide"
    }
   },
   "source": [
    "7. Substitua todos os números menores que a média do array por 0, preservando os valores do array original"
   ]
  },
  {
   "cell_type": "code",
   "execution_count": 5,
   "metadata": {
    "slideshow": {
     "slide_type": "notes"
    }
   },
   "outputs": [],
   "source": [
    "# Digite seu codigo aqui\n",
    "matriz_modificada = matriz.copy()\n",
    "matriz_modificada[matriz < media] = 0\n"
   ]
  },
  {
   "cell_type": "markdown",
   "metadata": {},
   "source": [
    "8. Crie um array numpy de tamanho 7x7 com valores aleatórios inteiros entre 1 e 100 (inclusive). Em seguida, encontre o valor máximo e o valor mínimo em cada linha do arr"
   ]
  },
  {
   "cell_type": "code",
   "execution_count": 27,
   "metadata": {},
   "outputs": [
    {
     "name": "stdout",
     "output_type": "stream",
     "text": [
      "[[ 87  82  30   3  63  67  95]\n",
      " [ 86  25  72  77  74 100 100]\n",
      " [ 47  77  22  91  11  71  81]\n",
      " [ 49  86  91  86   3   5  65]\n",
      " [ 44  25  15   3  93  25  63]\n",
      " [ 19  94  84  20  10  87  61]\n",
      " [ 12  64  99  90   6  11  40]]\n",
      "[ 95 100  91  91  93  94  99]\n",
      "[ 3 25 11  3  3 10  6]\n"
     ]
    }
   ],
   "source": [
    "# Digite seu código aqui\n",
    "array = np.random.randint(1, 101, (7, 7))\n",
    "maximos_por_linha = np.max(array, axis=1)\n",
    "minimos_por_linha = np.min(array, axis=1)\n",
    "print(array)\n",
    "print(maximos_por_linha)\n",
    "print(minimos_por_linha)"
   ]
  },
  {
   "cell_type": "markdown",
   "metadata": {},
   "source": [
    "9. Crie um array numpy de tamanho 8x8 com valores aleatórios entre 0 e 1 (exclusive). Em seguida, crie um novo array onde todos os valores menores que 0.5 são substituídos por 0 e todos os valores maiores ou iguais a 0.5 são substituídos por 1."
   ]
  },
  {
   "cell_type": "code",
   "execution_count": 34,
   "metadata": {},
   "outputs": [
    {
     "name": "stdout",
     "output_type": "stream",
     "text": [
      "[[0.54599176 0.74910008 0.54448256 0.93928092 0.96768156 0.64153156\n",
      "  0.17450143 0.34879942]\n",
      " [0.91725545 0.39970053 0.55487539 0.53586667 0.27848778 0.18852772\n",
      "  0.73338346 0.18809905]\n",
      " [0.8026672  0.44452696 0.58904614 0.47637261 0.94702343 0.312947\n",
      "  0.85725071 0.8320004 ]\n",
      " [0.82179219 0.6745795  0.45126561 0.39491502 0.0615499  0.9688481\n",
      "  0.76536459 0.23735203]\n",
      " [0.46346969 0.08225052 0.20781874 0.40169618 0.28764428 0.71013153\n",
      "  0.72754105 0.58494846]\n",
      " [0.72976395 0.19592816 0.32765672 0.83520908 0.01462261 0.81052903\n",
      "  0.0053413  0.79741501]\n",
      " [0.70415579 0.50599149 0.78916145 0.42571787 0.65439885 0.86543976\n",
      "  0.12747185 0.11944955]\n",
      " [0.66065803 0.99232427 0.30531766 0.92566577 0.1389489  0.27758037\n",
      "  0.00106957 0.7906625 ]]\n",
      "[[1 1 1 1 1 1 0 0]\n",
      " [1 0 1 1 0 0 1 0]\n",
      " [1 0 1 0 1 0 1 1]\n",
      " [1 1 0 0 0 1 1 0]\n",
      " [0 0 0 0 0 1 1 1]\n",
      " [1 0 0 1 0 1 0 1]\n",
      " [1 1 1 0 1 1 0 0]\n",
      " [1 1 0 1 0 0 0 1]]\n"
     ]
    }
   ],
   "source": [
    "# Digite seu código aqui\n",
    "array_original = np.random.random((8, 8))\n",
    "print(array_original)\n",
    "array_modificado = np.where(array_original < 0.5, 0, 1)\n",
    "print(array_modificado)"
   ]
  },
  {
   "attachments": {},
   "cell_type": "markdown",
   "metadata": {},
   "source": [
    "### Mudança de Formato"
   ]
  },
  {
   "attachments": {},
   "cell_type": "markdown",
   "metadata": {
    "slideshow": {
     "slide_type": "slide"
    }
   },
   "source": [
    "10. De um exemplo onde um ndarray de 1D é transformado em 2D. Por exemplo, transformar um vetor 1D em uma matriz coluna ou matriz linha"
   ]
  },
  {
   "attachments": {},
   "cell_type": "markdown",
   "metadata": {
    "slideshow": {
     "slide_type": "slide"
    }
   },
   "source": [
    "11. Mostre como empilhar verticalmente dois ndarrays de 2 dimensões (matrizes) de dimensões compatíveis. Fique à vontade para mostra concatenação em qualquer um dos eixos "
   ]
  },
  {
   "cell_type": "code",
   "execution_count": 38,
   "metadata": {
    "slideshow": {
     "slide_type": "notes"
    }
   },
   "outputs": [
    {
     "name": "stdout",
     "output_type": "stream",
     "text": [
      "Vetor 1D:\n",
      "[1 2 3 4 5]\n",
      "\n",
      "Matriz Coluna (2D):\n",
      "[[1]\n",
      " [2]\n",
      " [3]\n",
      " [4]\n",
      " [5]]\n"
     ]
    }
   ],
   "source": [
    "# Digite seu codigo aqui\n",
    "\n",
    "vetor_1d = np.array([1, 2, 3, 4, 5])\n",
    "\n",
    "# Transforme em uma matriz coluna (2D)\n",
    "matriz_coluna = vetor_1d[:, np.newaxis]\n",
    "\n",
    "# Exiba o resultado\n",
    "print(\"Vetor 1D:\")\n",
    "print(vetor_1d)\n",
    "print(\"\\nMatriz Coluna (2D):\")\n",
    "print(matriz_coluna)"
   ]
  },
  {
   "attachments": {},
   "cell_type": "markdown",
   "metadata": {
    "slideshow": {
     "slide_type": "notes"
    }
   },
   "source": [
    "**Nota:** stackoverflow.com/questions/33356442/when-should-i-use-hstack-vstack-vs-append-vs-concatenate-vs-column-stack"
   ]
  },
  {
   "attachments": {},
   "cell_type": "markdown",
   "metadata": {},
   "source": [
    "## Miscelânea"
   ]
  },
  {
   "attachments": {},
   "cell_type": "markdown",
   "metadata": {},
   "source": [
    "12. Como calcular media, desvio e mediana de um array?"
   ]
  },
  {
   "cell_type": "code",
   "execution_count": 39,
   "metadata": {},
   "outputs": [
    {
     "name": "stdout",
     "output_type": "stream",
     "text": [
      "3.0\n",
      "1.4142135623730951\n",
      "3.0\n"
     ]
    }
   ],
   "source": [
    "# Digite seu codigo aqui\n",
    "dados = np.array([1, 2, 3, 4, 5])\n",
    "\n",
    "media = np.mean(dados)\n",
    "\n",
    "desvio_padrao = np.std(dados)\n",
    "\n",
    "mediana = np.median(dados)\n",
    "\n",
    "print(media)\n",
    "print(desvio_padrao)\n",
    "print(mediana)"
   ]
  },
  {
   "attachments": {},
   "cell_type": "markdown",
   "metadata": {},
   "source": [
    "13. Como normalizar os valores em um ndarray? \n",
    "\n",
    "** Nota**: *normalizar* é uma operação matemática que subtrai a média dos dados e divide pelo seu desvio padrão. "
   ]
  },
  {
   "cell_type": "code",
   "execution_count": 40,
   "metadata": {},
   "outputs": [
    {
     "name": "stdout",
     "output_type": "stream",
     "text": [
      "[-1.41421356 -0.70710678  0.          0.70710678  1.41421356]\n"
     ]
    }
   ],
   "source": [
    "# Digite seu codigo aqui\n",
    "dados = np.array([1, 2, 3, 4, 5])\n",
    "\n",
    "# Calcula a média e o desvio padrão dos dados\n",
    "media = np.mean(dados)\n",
    "desvio_padrao = np.std(dados)\n",
    "\n",
    "# Normaliza os dados aplicando a fórmula z-score\n",
    "dados_normalizados = (dados - media) / desvio_padrao\n",
    "\n",
    "print(dados_normalizados)"
   ]
  },
  {
   "attachments": {},
   "cell_type": "markdown",
   "metadata": {
    "slideshow": {
     "slide_type": "slide"
    }
   },
   "source": [
    "14. Calcular correlação entre dois vetores"
   ]
  },
  {
   "cell_type": "code",
   "execution_count": 44,
   "metadata": {},
   "outputs": [
    {
     "name": "stdout",
     "output_type": "stream",
     "text": [
      "[[1.  0.9]\n",
      " [0.9 1. ]]\n",
      "Correlação entre vetor1 e vetor2: 0.8999999999999998\n"
     ]
    }
   ],
   "source": [
    "# Digite seu codigo aqui\n",
    "vetor1 = np.array([1, 2, 3, 4, 5])\n",
    "vetor2 = np.array([1, 3, 2, 4, 5])\n",
    "\n",
    "# Calcule a matriz de correlação entre os dois vetores\n",
    "matriz_correlacao = np.corrcoef(vetor1, vetor2)\n",
    "\n",
    "print(matriz_correlacao)\n",
    "# A correlação entre os dois vetores está na posição (0, 1) ou (1, 0) da matriz\n",
    "correlacao = matriz_correlacao[0, 1]\n",
    "\n",
    "# Exiba a correlação\n",
    "print(\"Correlação entre vetor1 e vetor2:\", correlacao)"
   ]
  },
  {
   "attachments": {},
   "cell_type": "markdown",
   "metadata": {},
   "source": [
    "15. Crie uma matriz 5 x5 com vários valores repetidos entre 0 e 9. Em seguida aprsente a quantidade de ocorrencias de cada valor unicos em um ndarray"
   ]
  },
  {
   "cell_type": "code",
   "execution_count": 48,
   "metadata": {},
   "outputs": [
    {
     "name": "stdout",
     "output_type": "stream",
     "text": [
      "Matriz:\n",
      "[[4 5 7 7 6]\n",
      " [8 6 0 9 1]\n",
      " [1 8 6 2 9]\n",
      " [8 1 5 1 2]\n",
      " [3 8 5 9 7]]\n",
      "\n",
      "Ocorrências de Valores Únicos:\n",
      "[[0 1]\n",
      " [1 4]\n",
      " [2 2]\n",
      " [3 1]\n",
      " [4 1]\n",
      " [5 3]\n",
      " [6 3]\n",
      " [7 3]\n",
      " [8 4]\n",
      " [9 3]]\n"
     ]
    }
   ],
   "source": [
    "# Digite seu codigo aqui\n",
    "matriz = np.random.randint(0, 10, (5, 5))\n",
    "\n",
    "# Exiba a matriz\n",
    "print(\"Matriz:\")\n",
    "print(matriz)\n",
    "\n",
    "# Conte a quantidade de ocorrências de cada valor único\n",
    "valores_unicos, contagens = np.unique(matriz, return_counts=True)\n",
    "\n",
    "# Crie um ndarray com as contagens correspondentes a cada valor único\n",
    "ocorrencias = np.column_stack((valores_unicos, contagens))\n",
    "\n",
    "# Exiba as ocorrências de cada valor único\n",
    "print(\"\\nOcorrências de Valores Únicos:\")\n",
    "print(ocorrencias)"
   ]
  },
  {
   "attachments": {},
   "cell_type": "markdown",
   "metadata": {},
   "source": [
    "# Referências\n",
    "\n",
    "Se você quiser, veja mais exercícios no link abaixo. Atente para o fato de que algumas das respostas neste link não valem mais para a versão atual do numpy. \n",
    "\n",
    "https://www.machinelearningplus.com/python/101-numpy-exercises-python/"
   ]
  }
 ],
 "metadata": {
  "kernelspec": {
   "display_name": "Python 3",
   "language": "python",
   "name": "python3"
  },
  "language_info": {
   "codemirror_mode": {
    "name": "ipython",
    "version": 3
   },
   "file_extension": ".py",
   "mimetype": "text/x-python",
   "name": "python",
   "nbconvert_exporter": "python",
   "pygments_lexer": "ipython3",
   "version": "3.11.2"
  }
 },
 "nbformat": 4,
 "nbformat_minor": 2
}
