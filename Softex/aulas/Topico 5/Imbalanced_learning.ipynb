{
 "cells": [
  {
   "cell_type": "code",
   "execution_count": 2,
   "metadata": {},
   "outputs": [],
   "source": [
    "#Sobreamostragem ou oversampling\n",
    "from sklearn.datasets import make_classification\n",
    "from sklearn.model_selection import train_test_split\n",
    "from imblearn.over_sampling import RandomOverSampler, SMOTE\n",
    "from collections import Counter\n",
    "from sklearn import svm\n",
    "from sklearn.metrics import (\n",
    "    confusion_matrix,\n",
    "    accuracy_score,\n",
    "    precision_score,\n",
    "    recall_score,\n",
    "    f1_score\n",
    ")"
   ]
  },
  {
   "cell_type": "code",
   "execution_count": 3,
   "metadata": {},
   "outputs": [],
   "source": [
    "X, y = make_classification(n_samples = 1000, weights=[0.9, 0.1], random_state = 42)\n",
    "\n",
    "X_train, X_test, y_train, y_test = train_test_split(X, y, test_size = 0.2, random_state = 42)"
   ]
  },
  {
   "cell_type": "code",
   "execution_count": 4,
   "metadata": {},
   "outputs": [
    {
     "name": "stdout",
     "output_type": "stream",
     "text": [
      "Dados originais / Desbalanceados:\n",
      "Acuracia = 0.885\n",
      "Precision = 0.38461538461538464\n",
      "Recall = 0.25\n",
      "F1 Score = 0.30303030303030304\n",
      "_____________________________________\n",
      "Counter({0: 717, 1: 83}) Counter({0: 717, 1: 717})\n",
      "Random over sampler / dados balanceados:\n",
      "Acuracia = 0.845\n",
      "Precision = 0.36585365853658536\n",
      "Recall = 0.75\n",
      "F1 Score = 0.4918032786885247\n"
     ]
    }
   ],
   "source": [
    "#treinando com o conjunto de treino original (desbalanceado)\n",
    "svm_model = svm.SVC(kernel ='sigmoid').fit(X_train,y_train)\n",
    "y_test_predictions = svm_model.predict(X_test)\n",
    "print('Dados originais / Desbalanceados:')\n",
    "acuracia = accuracy_score(y_test, y_test_predictions)\n",
    "precision = precision_score(y_test, y_test_predictions)\n",
    "recall = recall_score(y_test, y_test_predictions)\n",
    "f1score = f1_score(y_test, y_test_predictions)\n",
    "\n",
    "print(f\"Acuracia = {acuracia}\")\n",
    "print(f\"Precision = {precision}\")\n",
    "print(f\"Recall = {recall}\")\n",
    "print(f\"F1 Score = {f1score}\")\n",
    "\n",
    "print(\"_____________________________________\")\n",
    "\n",
    "\n",
    "#Random over sampling\n",
    "random_over = RandomOverSampler(random_state = 42)\n",
    "X_train_over, y_train_over = random_over.fit_resample(X_train, y_train) #aplicar apenas no treino\n",
    "\n",
    "print(Counter(y_train), Counter(y_train_over))\n",
    "\n",
    "#treinando com o conjunto de treino balanceado\n",
    "svm_model = svm.SVC(kernel ='sigmoid').fit(X_train_over,y_train_over)\n",
    "y_test_predictions = svm_model.predict(X_test)\n",
    "\n",
    "\n",
    "print('Random over sampler / dados balanceados:')\n",
    "acuracia = accuracy_score(y_test, y_test_predictions)\n",
    "precision = precision_score(y_test, y_test_predictions)\n",
    "recall = recall_score(y_test, y_test_predictions)\n",
    "f1score = f1_score(y_test, y_test_predictions)\n",
    "\n",
    "print(f\"Acuracia = {acuracia}\")\n",
    "print(f\"Precision = {precision}\")\n",
    "print(f\"Recall = {recall}\")\n",
    "print(f\"F1 Score = {f1score}\")"
   ]
  },
  {
   "cell_type": "code",
   "execution_count": 5,
   "metadata": {},
   "outputs": [
    {
     "name": "stdout",
     "output_type": "stream",
     "text": [
      "Dados originais / Desbalanceados:\n",
      "Acuracia = 0.885\n",
      "Precision = 0.38461538461538464\n",
      "Recall = 0.25\n",
      "F1 Score = 0.30303030303030304\n",
      "_____________________________________\n",
      "Counter({0: 717, 1: 83}) Counter({0: 717, 1: 717})\n",
      "SMOTE / dados balanceados:\n",
      "Acuracia = 0.845\n",
      "Precision = 0.35135135135135137\n",
      "Recall = 0.65\n",
      "F1 Score = 0.456140350877193\n"
     ]
    }
   ],
   "source": [
    "#SMOTE\n",
    "#treinando com o conjunto de treino original (desbalanceado)\n",
    "svm_model = svm.SVC(kernel ='sigmoid').fit(X_train,y_train)\n",
    "y_test_predictions = svm_model.predict(X_test)\n",
    "print('Dados originais / Desbalanceados:')\n",
    "acuracia = accuracy_score(y_test, y_test_predictions)\n",
    "precision = precision_score(y_test, y_test_predictions)\n",
    "recall = recall_score(y_test, y_test_predictions)\n",
    "f1score = f1_score(y_test, y_test_predictions)\n",
    "\n",
    "print(f\"Acuracia = {acuracia}\")\n",
    "print(f\"Precision = {precision}\")\n",
    "print(f\"Recall = {recall}\")\n",
    "print(f\"F1 Score = {f1score}\")\n",
    "\n",
    "print(\"_____________________________________\")\n",
    "\n",
    "\n",
    "#SMOTE\n",
    "smote = SMOTE(random_state = 42)\n",
    "X_train_over, y_train_over = smote.fit_resample(X_train, y_train) #aplicar apenas no treino\n",
    "\n",
    "print(Counter(y_train), Counter(y_train_over))\n",
    "\n",
    "#treinando com o conjunto de treino balanceado com SMOTE\n",
    "svm_model = svm.SVC(kernel ='sigmoid').fit(X_train_over,y_train_over)\n",
    "y_test_predictions = svm_model.predict(X_test)\n",
    "\n",
    "\n",
    "print('SMOTE / dados balanceados:')\n",
    "acuracia = accuracy_score(y_test, y_test_predictions)\n",
    "precision = precision_score(y_test, y_test_predictions)\n",
    "recall = recall_score(y_test, y_test_predictions)\n",
    "f1score = f1_score(y_test, y_test_predictions)\n",
    "\n",
    "print(f\"Acuracia = {acuracia}\")\n",
    "print(f\"Precision = {precision}\")\n",
    "print(f\"Recall = {recall}\")\n",
    "print(f\"F1 Score = {f1score}\")"
   ]
  },
  {
   "cell_type": "code",
   "execution_count": 6,
   "metadata": {
    "colab": {
     "base_uri": "https://localhost:8080/"
    },
    "id": "56J1wV0LZhWO",
    "outputId": "a57aab43-a359-4821-8019-7a5b85adedd0"
   },
   "outputs": [
    {
     "name": "stdout",
     "output_type": "stream",
     "text": [
      "Dados originais / Desbalanceados:\n",
      "Acuracia = 0.885\n",
      "Precision = 0.38461538461538464\n",
      "Recall = 0.25\n",
      "F1 Score = 0.30303030303030304\n",
      "_____________________________________\n",
      "Counter({0: 717, 1: 83}) Counter({0: 83, 1: 83})\n",
      "Random under sampler / dados balanceados:\n",
      "Acuracia = 0.85\n",
      "Precision = 0.375\n",
      "Recall = 0.75\n",
      "F1 Score = 0.5\n"
     ]
    }
   ],
   "source": [
    "#Subamostragem ou undersampling\n",
    "from imblearn.under_sampling import RandomUnderSampler, TomekLinks\n",
    "\n",
    "\n",
    "#treinando com o conjunto de treino original (desbalanceado)\n",
    "svm_model = svm.SVC(kernel ='sigmoid').fit(X_train,y_train)\n",
    "y_test_predictions = svm_model.predict(X_test)\n",
    "print('Dados originais / Desbalanceados:')\n",
    "acuracia = accuracy_score(y_test, y_test_predictions)\n",
    "precision = precision_score(y_test, y_test_predictions)\n",
    "recall = recall_score(y_test, y_test_predictions)\n",
    "f1score = f1_score(y_test, y_test_predictions)\n",
    "\n",
    "print(f\"Acuracia = {acuracia}\")\n",
    "print(f\"Precision = {precision}\")\n",
    "print(f\"Recall = {recall}\")\n",
    "print(f\"F1 Score = {f1score}\")\n",
    "print(\"_____________________________________\")\n",
    "\n",
    "\n",
    "#Random under sampler\n",
    "random_under = RandomUnderSampler(random_state = 42)\n",
    "X_train_under, y_train_under = random_under.fit_resample(X_train, y_train)\n",
    "\n",
    "\n",
    "print(Counter(y_train), Counter(y_train_under))\n",
    "\n",
    "#treinando com o conjunto de treino balanceado com RandomUnderSampler\n",
    "svm_model = svm.SVC(kernel ='sigmoid').fit(X_train_under,y_train_under)\n",
    "y_test_predictions = svm_model.predict(X_test)\n",
    "\n",
    "print('Random under sampler / dados balanceados:')\n",
    "acuracia = accuracy_score(y_test, y_test_predictions)\n",
    "precision = precision_score(y_test, y_test_predictions)\n",
    "recall = recall_score(y_test, y_test_predictions)\n",
    "f1score = f1_score(y_test, y_test_predictions)\n",
    "\n",
    "print(f\"Acuracia = {acuracia}\")\n",
    "print(f\"Precision = {precision}\")\n",
    "print(f\"Recall = {recall}\")\n",
    "print(f\"F1 Score = {f1score}\")\n"
   ]
  },
  {
   "cell_type": "code",
   "execution_count": 7,
   "metadata": {},
   "outputs": [
    {
     "name": "stdout",
     "output_type": "stream",
     "text": [
      "Dados originais / Desbalanceados:\n",
      "Acuracia = 0.885\n",
      "Precision = 0.38461538461538464\n",
      "Recall = 0.25\n",
      "F1 Score = 0.30303030303030304\n",
      "_____________________________________\n",
      "Counter({0: 717, 1: 83}) Counter({0: 83, 1: 83})\n",
      "Tomek Links / dados balanceados:\n",
      "Acuracia = 0.895\n",
      "Precision = 0.45454545454545453\n",
      "Recall = 0.25\n",
      "F1 Score = 0.3225806451612903\n"
     ]
    }
   ],
   "source": [
    "#Tomek links\n",
    "#treinando com o conjunto de treino original (desbalanceado)\n",
    "svm_model = svm.SVC(kernel ='sigmoid').fit(X_train,y_train)\n",
    "y_test_predictions = svm_model.predict(X_test)\n",
    "print('Dados originais / Desbalanceados:')\n",
    "acuracia = accuracy_score(y_test, y_test_predictions)\n",
    "precision = precision_score(y_test, y_test_predictions)\n",
    "recall = recall_score(y_test, y_test_predictions)\n",
    "f1score = f1_score(y_test, y_test_predictions)\n",
    "\n",
    "print(f\"Acuracia = {acuracia}\")\n",
    "print(f\"Precision = {precision}\")\n",
    "print(f\"Recall = {recall}\")\n",
    "print(f\"F1 Score = {f1score}\")\n",
    "print(\"_____________________________________\")\n",
    "\n",
    "\n",
    "#TomekLinks\n",
    "tl = TomekLinks()\n",
    "X_train_tl, y_train_tl = tl.fit_resample(X_train, y_train)\n",
    "\n",
    "\n",
    "print(Counter(y_train), Counter(y_train_under))\n",
    "\n",
    "#treinando com o conjunto de treino balanceado com TomekLinks\n",
    "svm_model = svm.SVC(kernel ='sigmoid').fit(X_train_tl,y_train_tl)\n",
    "y_test_predictions = svm_model.predict(X_test)\n",
    "\n",
    "\n",
    "print('Tomek Links / dados balanceados:')\n",
    "acuracia = accuracy_score(y_test, y_test_predictions)\n",
    "precision = precision_score(y_test, y_test_predictions)\n",
    "recall = recall_score(y_test, y_test_predictions)\n",
    "f1score = f1_score(y_test, y_test_predictions)\n",
    "\n",
    "print(f\"Acuracia = {acuracia}\")\n",
    "print(f\"Precision = {precision}\")\n",
    "print(f\"Recall = {recall}\")\n",
    "print(f\"F1 Score = {f1score}\")\n"
   ]
  },
  {
   "cell_type": "code",
   "execution_count": 72,
   "metadata": {
    "colab": {
     "base_uri": "https://localhost:8080/"
    },
    "id": "LUVtLdKZgwE1",
    "outputId": "1af5e915-decf-40ed-b536-827286a77807"
   },
   "outputs": [
    {
     "name": "stdout",
     "output_type": "stream",
     "text": [
      "Dados originais / Desbalanceados:\n",
      "Acuracia = 0.885\n",
      "Precision = 0.38461538461538464\n",
      "Recall = 0.25\n",
      "F1 Score = 0.30303030303030304\n",
      "_____________________________________\n",
      "Counter({0: 717, 1: 83}) Counter({0: 716, 1: 716})\n",
      "Tomek Links / dados balanceados:\n",
      "Acuracia = 0.845\n",
      "Precision = 0.35135135135135137\n",
      "Recall = 0.65\n",
      "F1 Score = 0.456140350877193\n"
     ]
    }
   ],
   "source": [
    "#Combinação \n",
    "from imblearn.combine import SMOTETomek\n",
    "#treinando com o conjunto de treino original (desbalanceado)\n",
    "svm_model = svm.SVC(kernel ='sigmoid').fit(X_train,y_train)\n",
    "y_test_predictions = svm_model.predict(X_test)\n",
    "print('Dados originais / Desbalanceados:')\n",
    "acuracia = accuracy_score(y_test, y_test_predictions)\n",
    "precision = precision_score(y_test, y_test_predictions)\n",
    "recall = recall_score(y_test, y_test_predictions)\n",
    "f1score = f1_score(y_test, y_test_predictions)\n",
    "\n",
    "print(f\"Acuracia = {acuracia}\")\n",
    "print(f\"Precision = {precision}\")\n",
    "print(f\"Recall = {recall}\")\n",
    "print(f\"F1 Score = {f1score}\")\n",
    "print(\"_____________________________________\")\n",
    "\n",
    "\n",
    "#Random under sampler\n",
    "smote_tl = SMOTETomek(random_state = 42)\n",
    "X_train_cb, y_train_cb = smote_tl.fit_resample(X_train, y_train)\n",
    "\n",
    "print(Counter(y_train), Counter(y_train_cb))\n",
    "\n",
    "#treinando com o conjunto de treino balanceado com SMOTE\n",
    "svm_model = svm.SVC(kernel ='sigmoid').fit(X_train_cb,y_train_cb)\n",
    "y_test_predictions = svm_model.predict(X_test)\n",
    "\n",
    "\n",
    "print('Tomek Links / dados balanceados:')\n",
    "acuracia = accuracy_score(y_test, y_test_predictions)\n",
    "precision = precision_score(y_test, y_test_predictions)\n",
    "recall = recall_score(y_test, y_test_predictions)\n",
    "f1score = f1_score(y_test, y_test_predictions)\n",
    "\n",
    "print(f\"Acuracia = {acuracia}\")\n",
    "print(f\"Precision = {precision}\")\n",
    "print(f\"Recall = {recall}\")\n",
    "print(f\"F1 Score = {f1score}\")"
   ]
  },
  {
   "cell_type": "code",
   "execution_count": null,
   "metadata": {
    "id": "V0UrBaaii0MJ"
   },
   "outputs": [],
   "source": []
  }
 ],
 "metadata": {
  "colab": {
   "collapsed_sections": [],
   "name": "Imbalanced learning.ipynb",
   "provenance": []
  },
  "kernelspec": {
   "display_name": "Python 3 (ipykernel)",
   "language": "python",
   "name": "python3"
  },
  "language_info": {
   "codemirror_mode": {
    "name": "ipython",
    "version": 3
   },
   "file_extension": ".py",
   "mimetype": "text/x-python",
   "name": "python",
   "nbconvert_exporter": "python",
   "pygments_lexer": "ipython3",
   "version": "3.9.13"
  }
 },
 "nbformat": 4,
 "nbformat_minor": 1
}
