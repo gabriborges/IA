{
 "cells": [
  {
   "cell_type": "code",
   "execution_count": 1,
   "metadata": {
    "id": "n9Fdi3bRS5wa"
   },
   "outputs": [],
   "source": [
    "#importando as bibliotecas necessárias\n",
    "import pandas as pd\n",
    "from sklearn.model_selection import train_test_split\n",
    "from sklearn.feature_selection import RFE\n",
    "from sklearn.ensemble import RandomForestClassifier\n",
    "import xgboost as xgb"
   ]
  },
  {
   "cell_type": "code",
   "execution_count": 2,
   "metadata": {
    "colab": {
     "base_uri": "https://localhost:8080/",
     "height": 351
    },
    "id": "G950jP54TDQz",
    "outputId": "09ea5bd9-f542-4535-ac43-1bb8339fa78f"
   },
   "outputs": [
    {
     "data": {
      "text/html": [
       "<div>\n",
       "<style scoped>\n",
       "    .dataframe tbody tr th:only-of-type {\n",
       "        vertical-align: middle;\n",
       "    }\n",
       "\n",
       "    .dataframe tbody tr th {\n",
       "        vertical-align: top;\n",
       "    }\n",
       "\n",
       "    .dataframe thead th {\n",
       "        text-align: right;\n",
       "    }\n",
       "</style>\n",
       "<table border=\"1\" class=\"dataframe\">\n",
       "  <thead>\n",
       "    <tr style=\"text-align: right;\">\n",
       "      <th></th>\n",
       "      <th>Idoso</th>\n",
       "      <th>Tempo de permanência</th>\n",
       "      <th>Valor mensal</th>\n",
       "      <th>Valor total</th>\n",
       "      <th>Sexo</th>\n",
       "      <th>Solteiro</th>\n",
       "      <th>Dependentes</th>\n",
       "      <th>Serviço telefônico</th>\n",
       "      <th>Várias linhas telefônicas</th>\n",
       "      <th>Provedor DSL</th>\n",
       "      <th>...</th>\n",
       "      <th>Streaming de filmes</th>\n",
       "      <th>Contrato de mês a mês</th>\n",
       "      <th>Contrato de um ano</th>\n",
       "      <th>Contrato de dois anos</th>\n",
       "      <th>Fatura digital</th>\n",
       "      <th>Pgto transferência bancária</th>\n",
       "      <th>Pgto cartão de crédito</th>\n",
       "      <th>Pgto cheque eletrônico</th>\n",
       "      <th>Pgto cheque enviado</th>\n",
       "      <th>Rotatividade</th>\n",
       "    </tr>\n",
       "  </thead>\n",
       "  <tbody>\n",
       "    <tr>\n",
       "      <th>0</th>\n",
       "      <td>0</td>\n",
       "      <td>1</td>\n",
       "      <td>29.85</td>\n",
       "      <td>29.85</td>\n",
       "      <td>0</td>\n",
       "      <td>1</td>\n",
       "      <td>0</td>\n",
       "      <td>0</td>\n",
       "      <td>0</td>\n",
       "      <td>1</td>\n",
       "      <td>...</td>\n",
       "      <td>0</td>\n",
       "      <td>1</td>\n",
       "      <td>0</td>\n",
       "      <td>0</td>\n",
       "      <td>1</td>\n",
       "      <td>0</td>\n",
       "      <td>0</td>\n",
       "      <td>1</td>\n",
       "      <td>0</td>\n",
       "      <td>0</td>\n",
       "    </tr>\n",
       "    <tr>\n",
       "      <th>1</th>\n",
       "      <td>0</td>\n",
       "      <td>34</td>\n",
       "      <td>56.95</td>\n",
       "      <td>1889.50</td>\n",
       "      <td>1</td>\n",
       "      <td>0</td>\n",
       "      <td>0</td>\n",
       "      <td>1</td>\n",
       "      <td>0</td>\n",
       "      <td>1</td>\n",
       "      <td>...</td>\n",
       "      <td>0</td>\n",
       "      <td>0</td>\n",
       "      <td>1</td>\n",
       "      <td>0</td>\n",
       "      <td>0</td>\n",
       "      <td>0</td>\n",
       "      <td>0</td>\n",
       "      <td>0</td>\n",
       "      <td>1</td>\n",
       "      <td>0</td>\n",
       "    </tr>\n",
       "    <tr>\n",
       "      <th>2</th>\n",
       "      <td>0</td>\n",
       "      <td>2</td>\n",
       "      <td>53.85</td>\n",
       "      <td>108.15</td>\n",
       "      <td>1</td>\n",
       "      <td>0</td>\n",
       "      <td>0</td>\n",
       "      <td>1</td>\n",
       "      <td>0</td>\n",
       "      <td>1</td>\n",
       "      <td>...</td>\n",
       "      <td>0</td>\n",
       "      <td>1</td>\n",
       "      <td>0</td>\n",
       "      <td>0</td>\n",
       "      <td>1</td>\n",
       "      <td>0</td>\n",
       "      <td>0</td>\n",
       "      <td>0</td>\n",
       "      <td>1</td>\n",
       "      <td>1</td>\n",
       "    </tr>\n",
       "    <tr>\n",
       "      <th>3</th>\n",
       "      <td>0</td>\n",
       "      <td>45</td>\n",
       "      <td>42.30</td>\n",
       "      <td>1840.75</td>\n",
       "      <td>1</td>\n",
       "      <td>0</td>\n",
       "      <td>0</td>\n",
       "      <td>0</td>\n",
       "      <td>0</td>\n",
       "      <td>1</td>\n",
       "      <td>...</td>\n",
       "      <td>0</td>\n",
       "      <td>0</td>\n",
       "      <td>1</td>\n",
       "      <td>0</td>\n",
       "      <td>0</td>\n",
       "      <td>1</td>\n",
       "      <td>0</td>\n",
       "      <td>0</td>\n",
       "      <td>0</td>\n",
       "      <td>0</td>\n",
       "    </tr>\n",
       "    <tr>\n",
       "      <th>4</th>\n",
       "      <td>0</td>\n",
       "      <td>2</td>\n",
       "      <td>70.70</td>\n",
       "      <td>151.65</td>\n",
       "      <td>0</td>\n",
       "      <td>0</td>\n",
       "      <td>0</td>\n",
       "      <td>1</td>\n",
       "      <td>0</td>\n",
       "      <td>0</td>\n",
       "      <td>...</td>\n",
       "      <td>0</td>\n",
       "      <td>1</td>\n",
       "      <td>0</td>\n",
       "      <td>0</td>\n",
       "      <td>1</td>\n",
       "      <td>0</td>\n",
       "      <td>0</td>\n",
       "      <td>1</td>\n",
       "      <td>0</td>\n",
       "      <td>1</td>\n",
       "    </tr>\n",
       "  </tbody>\n",
       "</table>\n",
       "<p>5 rows × 26 columns</p>\n",
       "</div>"
      ],
      "text/plain": [
       "   Idoso  Tempo de permanência  Valor mensal  Valor total  Sexo  Solteiro  \\\n",
       "0      0                     1         29.85        29.85     0         1   \n",
       "1      0                    34         56.95      1889.50     1         0   \n",
       "2      0                     2         53.85       108.15     1         0   \n",
       "3      0                    45         42.30      1840.75     1         0   \n",
       "4      0                     2         70.70       151.65     0         0   \n",
       "\n",
       "   Dependentes  Serviço telefônico  Várias linhas telefônicas  Provedor DSL  \\\n",
       "0            0                   0                          0             1   \n",
       "1            0                   1                          0             1   \n",
       "2            0                   1                          0             1   \n",
       "3            0                   0                          0             1   \n",
       "4            0                   1                          0             0   \n",
       "\n",
       "   ...  Streaming de filmes  Contrato de mês a mês  Contrato de um ano  \\\n",
       "0  ...                    0                      1                   0   \n",
       "1  ...                    0                      0                   1   \n",
       "2  ...                    0                      1                   0   \n",
       "3  ...                    0                      0                   1   \n",
       "4  ...                    0                      1                   0   \n",
       "\n",
       "   Contrato de dois anos  Fatura digital  Pgto transferência bancária  \\\n",
       "0                      0               1                            0   \n",
       "1                      0               0                            0   \n",
       "2                      0               1                            0   \n",
       "3                      0               0                            1   \n",
       "4                      0               1                            0   \n",
       "\n",
       "   Pgto cartão de crédito  Pgto cheque eletrônico  Pgto cheque enviado  \\\n",
       "0                       0                       1                    0   \n",
       "1                       0                       0                    1   \n",
       "2                       0                       0                    1   \n",
       "3                       0                       0                    0   \n",
       "4                       0                       1                    0   \n",
       "\n",
       "   Rotatividade  \n",
       "0             0  \n",
       "1             0  \n",
       "2             1  \n",
       "3             0  \n",
       "4             1  \n",
       "\n",
       "[5 rows x 26 columns]"
      ]
     },
     "execution_count": 2,
     "metadata": {},
     "output_type": "execute_result"
    }
   ],
   "source": [
    "#carregando a base de dados\n",
    "df = pd.read_csv('rotatividade_clientes.csv', index_col = 0)\n",
    "df.head()"
   ]
  },
  {
   "cell_type": "code",
   "execution_count": 3,
   "metadata": {
    "colab": {
     "base_uri": "https://localhost:8080/"
    },
    "id": "kp1WpKw9Tg23",
    "outputId": "af53a733-8cc4-4096-a409-18d8e1d765cf"
   },
   "outputs": [
    {
     "data": {
      "text/plain": [
       "(7032, 25)"
      ]
     },
     "execution_count": 3,
     "metadata": {},
     "output_type": "execute_result"
    }
   ],
   "source": [
    "#dividindo a base em treino e teste\n",
    "X = df.drop(columns=['Rotatividade'])\n",
    "y = df['Rotatividade']\n",
    "\n",
    "X_train, X_test, y_train, y_test = train_test_split(X, y, test_size = 0.2, random_state = 42)\n",
    "\n",
    "X.shape"
   ]
  },
  {
   "cell_type": "code",
   "execution_count": 4,
   "metadata": {
    "colab": {
     "base_uri": "https://localhost:8080/"
    },
    "id": "H3y4But0UIcI",
    "outputId": "9c77e9ec-1034-4dbb-f556-e7a207ac87d7"
   },
   "outputs": [
    {
     "data": {
      "text/plain": [
       "0.7825159914712153"
      ]
     },
     "execution_count": 4,
     "metadata": {},
     "output_type": "execute_result"
    }
   ],
   "source": [
    "#treinando o modelo preditivo e verificando os resultados\n",
    "\n",
    "rf = RandomForestClassifier()\n",
    "rf.fit(X_train, y_train)\n",
    "rf.score(X_test, y_test)"
   ]
  },
  {
   "cell_type": "code",
   "execution_count": 9,
   "metadata": {
    "colab": {
     "base_uri": "https://localhost:8080/"
    },
    "id": "4PFcuowST4BP",
    "outputId": "ae02b640-a00f-4d9c-9c7b-3b754900f84d"
   },
   "outputs": [],
   "source": [
    "#filtrando as características usando o RFE\n",
    "selector = RFE(rf, n_features_to_select = 10)\n",
    "selector = selector.fit(X_train, y_train)"
   ]
  },
  {
   "cell_type": "code",
   "execution_count": 10,
   "metadata": {
    "colab": {
     "base_uri": "https://localhost:8080/"
    },
    "id": "rMn5RJeGVO1g",
    "outputId": "4ee54b41-412e-4ab9-a430-5f9884ad2a50"
   },
   "outputs": [
    {
     "name": "stdout",
     "output_type": "stream",
     "text": [
      "[False  True  True  True  True  True False False False False  True  True\n",
      " False False False False False  True False False  True False False  True\n",
      " False]\n",
      "[ 2  1  1  1  1  1  8 16  5 13  1  1  4  9  3 10  6  1 14  7  1 12 11  1\n",
      " 15]\n"
     ]
    }
   ],
   "source": [
    "#analisando o resultado da seleção de características\n",
    "print(selector.support_) #features selecionadas\n",
    "print(selector.ranking_) #ranking de importância"
   ]
  },
  {
   "cell_type": "code",
   "execution_count": 7,
   "metadata": {
    "id": "_FP7O5UYWLFS"
   },
   "outputs": [
    {
     "name": "stdout",
     "output_type": "stream",
     "text": [
      "(1407, 10)\n"
     ]
    }
   ],
   "source": [
    "#filtrando apenas as características selecionadas\n",
    "X_selected_train = selector.transform(X_train)\n",
    "X_selected_test = selector.transform(X_test)\n",
    "print(X_selected_test.shape)"
   ]
  },
  {
   "cell_type": "code",
   "execution_count": 8,
   "metadata": {
    "colab": {
     "base_uri": "https://localhost:8080/"
    },
    "id": "TqdkOGCqZ05d",
    "outputId": "7d071ca0-d86e-40f6-ec69-737a3984760d"
   },
   "outputs": [
    {
     "data": {
      "text/plain": [
       "0.7711442786069652"
      ]
     },
     "execution_count": 8,
     "metadata": {},
     "output_type": "execute_result"
    }
   ],
   "source": [
    "#treinando o modelo preditivo e verificando os resultados com as características selecionadas\n",
    "\n",
    "rf = RandomForestClassifier()\n",
    "rf.fit(X_selected_train, y_train)\n",
    "rf.score(X_selected_test, y_test)"
   ]
  },
  {
   "cell_type": "code",
   "execution_count": null,
   "metadata": {
    "id": "CoMAGHrmdBk4"
   },
   "outputs": [],
   "source": []
  }
 ],
 "metadata": {
  "colab": {
   "collapsed_sections": [],
   "name": "Feature_selection",
   "provenance": []
  },
  "kernelspec": {
   "display_name": "Python 3 (ipykernel)",
   "language": "python",
   "name": "python3"
  },
  "language_info": {
   "codemirror_mode": {
    "name": "ipython",
    "version": 3
   },
   "file_extension": ".py",
   "mimetype": "text/x-python",
   "name": "python",
   "nbconvert_exporter": "python",
   "pygments_lexer": "ipython3",
   "version": "3.9.13"
  }
 },
 "nbformat": 4,
 "nbformat_minor": 1
}
