{
 "cells": [
  {
   "cell_type": "code",
   "execution_count": 129,
   "metadata": {},
   "outputs": [],
   "source": [
    "from deap import creator, base, tools, algorithms\n",
    "import numpy as np\n",
    "import matplotlib.pyplot as plt"
   ]
  },
  {
   "cell_type": "code",
   "execution_count": 130,
   "metadata": {},
   "outputs": [],
   "source": [
    "toolbox = base.Toolbox()\n",
    " \n",
    "#genes, ou numero de cidades percorridas\n",
    "n = 4\n",
    "\n",
    "creator.create(\"FitnessMin\", base.Fitness, weights=(-1.0,))\n",
    "creator.create(\"individuo\", list, fitness=creator.FitnessMin)\n",
    "\n",
    "toolbox.register(\"Genes\", np.random.permutation, n)\n",
    "toolbox.register(\"Individuos\", tools.initIterate, creator.individuo, toolbox.Genes)\n"
   ]
  },
  {
   "cell_type": "code",
   "execution_count": 131,
   "metadata": {},
   "outputs": [],
   "source": [
    "toolbox.register(\"Populacao\", tools.initRepeat, list, toolbox.Individuos)"
   ]
  },
  {
   "cell_type": "code",
   "execution_count": 132,
   "metadata": {},
   "outputs": [],
   "source": [
    "pop = toolbox.Populacao(n=5)"
   ]
  },
  {
   "cell_type": "code",
   "execution_count": 133,
   "metadata": {},
   "outputs": [],
   "source": [
    "toolbox.register(\"mate\", tools.cxPartialyMatched)\n",
    "toolbox.register(\"mutate\", tools.mutShuffleIndexes, indpb=0.1)\n",
    "toolbox.register(\"select\", tools.selTournament, tournsize=3) "
   ]
  },
  {
   "cell_type": "code",
   "execution_count": 134,
   "metadata": {},
   "outputs": [],
   "source": [
    "distancias =   [[0, 7, 9 ,2], \n",
    "                [4, 0, 3, 7],\n",
    "                [6, 7, 0, 8],\n",
    "                [2, 3, 8, 0]]"
   ]
  },
  {
   "cell_type": "code",
   "execution_count": 135,
   "metadata": {},
   "outputs": [],
   "source": [
    "def aptidao(individual):\n",
    "    distancia = 0\n",
    "    for i in range(n-1):\n",
    "        distancia += distancias[individual[i]][individual[i+1]]\n",
    "        #print(f\"{[individual[i]]},{[individual[i+1]]}\")\n",
    "    return distancia,  "
   ]
  },
  {
   "cell_type": "code",
   "execution_count": 136,
   "metadata": {},
   "outputs": [],
   "source": [
    "toolbox.register(\"evaluate\", aptidao)"
   ]
  },
  {
   "cell_type": "code",
   "execution_count": 137,
   "metadata": {},
   "outputs": [],
   "source": [
    "def estatisticaSalvar(individiuo):\n",
    "    return individiuo.fitness.values"
   ]
  },
  {
   "cell_type": "code",
   "execution_count": 138,
   "metadata": {},
   "outputs": [],
   "source": [
    "estatistica = tools.Statistics(key=estatisticaSalvar)\n",
    "estatistica.register(\"mean\", np.mean)\n",
    "estatistica.register(\"min\", np.min)\n",
    "estatistica.register(\"max\", np.max)"
   ]
  },
  {
   "cell_type": "code",
   "execution_count": 139,
   "metadata": {},
   "outputs": [],
   "source": [
    "hof = tools.HallOfFame(5)"
   ]
  },
  {
   "cell_type": "code",
   "execution_count": 140,
   "metadata": {},
   "outputs": [
    {
     "name": "stdout",
     "output_type": "stream",
     "text": [
      "gen\tnevals\tmean\tmin\tmax\n",
      "0  \t5     \t16.2\t12 \t21 \n",
      "1  \t2     \t13.6\t11 \t18 \n",
      "2  \t4     \t12.2\t11 \t14 \n",
      "3  \t4     \t15.8\t12 \t21 \n",
      "4  \t4     \t13.8\t12 \t19 \n",
      "5  \t5     \t12  \t12 \t12 \n",
      "6  \t4     \t12  \t12 \t12 \n",
      "7  \t4     \t12  \t12 \t12 \n",
      "8  \t2     \t12  \t12 \t12 \n",
      "9  \t0     \t12  \t12 \t12 \n",
      "10 \t4     \t12  \t12 \t12 \n",
      "11 \t2     \t12  \t12 \t12 \n",
      "12 \t4     \t12  \t12 \t12 \n",
      "13 \t2     \t12  \t12 \t12 \n",
      "14 \t4     \t12  \t12 \t12 \n",
      "15 \t4     \t13.4\t12 \t19 \n",
      "16 \t4     \t12  \t12 \t12 \n",
      "17 \t4     \t12  \t8  \t16 \n",
      "18 \t2     \t9.6 \t8  \t12 \n",
      "19 \t4     \t8.8 \t8  \t12 \n",
      "20 \t0     \t8   \t8  \t8  \n",
      "21 \t4     \t8   \t8  \t8  \n",
      "22 \t2     \t8   \t8  \t8  \n",
      "23 \t2     \t8   \t8  \t8  \n",
      "24 \t2     \t8   \t8  \t8  \n",
      "25 \t4     \t10  \t8  \t18 \n",
      "26 \t4     \t8   \t8  \t8  \n",
      "27 \t4     \t8   \t8  \t8  \n",
      "28 \t4     \t8.8 \t8  \t12 \n",
      "29 \t5     \t10.8\t8  \t22 \n",
      "30 \t4     \t8   \t8  \t8  \n",
      "31 \t4     \t9.4 \t8  \t15 \n",
      "32 \t4     \t8   \t8  \t8  \n",
      "33 \t2     \t8   \t8  \t8  \n",
      "34 \t4     \t8   \t8  \t8  \n",
      "35 \t4     \t9.4 \t8  \t15 \n",
      "36 \t4     \t8   \t8  \t8  \n",
      "37 \t4     \t8   \t8  \t8  \n",
      "38 \t2     \t8   \t8  \t8  \n",
      "39 \t4     \t8   \t8  \t8  \n",
      "40 \t4     \t8   \t8  \t8  \n",
      "41 \t4     \t8   \t8  \t8  \n",
      "42 \t4     \t8   \t8  \t8  \n",
      "43 \t5     \t8   \t8  \t8  \n",
      "44 \t4     \t8   \t8  \t8  \n",
      "45 \t2     \t8   \t8  \t8  \n",
      "46 \t2     \t8   \t8  \t8  \n",
      "47 \t3     \t11  \t8  \t23 \n",
      "48 \t3     \t8   \t8  \t8  \n",
      "49 \t2     \t8   \t8  \t8  \n",
      "50 \t4     \t8   \t8  \t8  \n"
     ]
    }
   ],
   "source": [
    "result, log = algorithms.eaSimple(pop, \n",
    "                                  toolbox, \n",
    "                                  cxpb=0.8, \n",
    "                                  mutpb=0.1, \n",
    "                                  ngen=50, \n",
    "                                  stats=estatistica, \n",
    "                                  halloffame=hof, \n",
    "                                  verbose=True)"
   ]
  },
  {
   "cell_type": "code",
   "execution_count": 141,
   "metadata": {},
   "outputs": [
    {
     "name": "stdout",
     "output_type": "stream",
     "text": [
      "[[0, 3, 1, 2], [0, 3, 1, 2], [0, 3, 1, 2], [0, 3, 1, 2], [0, 3, 1, 2]]\n"
     ]
    }
   ],
   "source": [
    "print(result)"
   ]
  },
  {
   "cell_type": "code",
   "execution_count": 142,
   "metadata": {},
   "outputs": [
    {
     "name": "stdout",
     "output_type": "stream",
     "text": [
      "[[0, 3, 1, 2], [2, 0, 3, 1], [3, 0, 1, 2], [1, 2, 3, 0], [1, 0, 3, 2]]\n"
     ]
    }
   ],
   "source": [
    "print(hof)"
   ]
  },
  {
   "cell_type": "code",
   "execution_count": 143,
   "metadata": {},
   "outputs": [],
   "source": [
    "menores = log.select('min')\n",
    "maiores = log.select('max')\n",
    "media = log.select('mean')"
   ]
  },
  {
   "cell_type": "code",
   "execution_count": 144,
   "metadata": {},
   "outputs": [
    {
     "data": {
      "text/plain": [
       "<matplotlib.legend.Legend at 0x2ce8e42edd0>"
      ]
     },
     "execution_count": 144,
     "metadata": {},
     "output_type": "execute_result"
    },
    {
     "data": {
      "image/png": "[encoded data removed]",
      "text/plain": [
       "<Figure size 640x480 with 1 Axes>"
      ]
     },
     "metadata": {},
     "output_type": "display_data"
    }
   ],
   "source": [
    "plt.plot(maiores, label=\"Maiores\")\n",
    "plt.plot(media, label=\"Media\") \n",
    "plt.plot(menores, color=\"black\", label=\"Menores\")\n",
    "\n",
    "plt.xlabel(\"Geração\")\n",
    "plt.ylabel(\"Aptitidão\")\n",
    "plt.legend(loc=1)"
   ]
  }
 ],
 "metadata": {
  "kernelspec": {
   "display_name": "Python 3",
   "language": "python",
   "name": "python3"
  },
  "language_info": {
   "codemirror_mode": {
    "name": "ipython",
    "version": 3
   },
   "file_extension": ".py",
   "mimetype": "text/x-python",
   "name": "python",
   "nbconvert_exporter": "python",
   "pygments_lexer": "ipython3",
   "version": "3.11.2"
  }
 },
 "nbformat": 4,
 "nbformat_minor": 2
}
